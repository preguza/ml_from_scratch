{
 "cells": [
  {
   "cell_type": "code",
   "execution_count": 1,
   "id": "0a6e5d26-f2db-426d-bc01-b14deaf3b64d",
   "metadata": {},
   "outputs": [],
   "source": [
    "import numpy as np\n",
    "\n",
    "from sklearn.datasets import make_regression"
   ]
  },
  {
   "cell_type": "code",
   "execution_count": null,
   "id": "8f4ad4c9-6fc0-432c-a62d-bae0934c5691",
   "metadata": {},
   "outputs": [],
   "source": [
    "def Perceptron_Regressor(self):\n",
    "    def __init__(self, \n",
    "                 random_state=None,\n",
    "                 cost_function='MSE',\n",
    "                 gradient_descent='batch')\n",
    "        \n",
    "        self.random_state = random_state\n",
    "        self.cost_function = cost_function\n",
    "        \n",
    "        \n",
    "        \n",
    "        assert self.gradient_descent.lower() in ['stocastic', 'batch'], (\n",
    "            f'Expected value for gradient_descent: \"stocastic\" or \"batch\". '\n",
    "            f'Got: \"{gradient_descent}\"'\n",
    "        \n",
    "        \n",
    "        assert self.gradient_descent.lower() in ['stocastic', 'batch'], (\n",
    "            f'Expected value for gradient_descent: \"stocastic\" or \"batch\". '\n",
    "            f'Got: \"{gradient_descent}\"'\n",
    "        )\n",
    "        \n",
    "        \n",
    "        \n",
    "        \n",
    "\n",
    "        \n",
    "    def fit(self, X, Y, learning_rate=0.01, epochs=20, \n",
    "            initialize=True, \\\n",
    "            gradient_descent='batch',\n",
    "            cost_function='MSE\n",
    "           \n",
    "           ):\n",
    "\n",
    "        self.X = X\n",
    "        self.Y = Y\n",
    "        self.alpha = alpha\n",
    "        self.epochs = epochs\n",
    "        self.initialize = initialize\n",
    "        self.gradient_descent = gradient_descent\n",
    "        \n",
    "        \n",
    "        \n",
    "        if self.initialize:\n",
    "            # Random numbers generator with given random state\n",
    "            rgen = np.random.RandomState(seed=self.random_state)\n",
    "            self.w = rgen.normal(loc=0.0,    # Mean (“centre”) of the distribution.\n",
    "                                 scale=0.5,  # Standard deviation\n",
    "                                 size=self.X.shape[1])\n",
    "            self.b = np.float(0.)\n",
    "        \n",
    "        if gradient_descent = 'batch':\n",
    "            pass\n",
    "        \n",
    "        if gradient_descent = 'stocastic':\n",
    "        \n",
    "        "
   ]
  },
  {
   "cell_type": "code",
   "execution_count": 30,
   "id": "19be35a4-c7da-4de1-b0fe-74a7d3a6dddb",
   "metadata": {},
   "outputs": [
    {
     "data": {
      "text/plain": [
       "array([ 0.19513438, -0.16810061,  0.07847264,  0.09157491,  0.00512991,\n",
       "       -0.20091552,  0.24832677, -0.21095941, -1.17163336, -0.18641637])"
      ]
     },
     "execution_count": 30,
     "metadata": {},
     "output_type": "execute_result"
    }
   ],
   "source": [
    "rgen = np.random.RandomState(seed=None)\n",
    "rgen.normal(loc= 0.0, scale=0.5, size=10)\n"
   ]
  },
  {
   "cell_type": "code",
   "execution_count": 23,
   "id": "7ed60902-380d-41db-86ff-9ce775a1ff9d",
   "metadata": {},
   "outputs": [
    {
     "data": {
      "text/plain": [
       "array([-0.85997771,  0.92726672, -0.25084082, -0.1672017 , -0.44774749,\n",
       "       -0.39547081, -0.73719239, -1.93334004,  1.14931168,  1.00351464])"
      ]
     },
     "execution_count": 23,
     "metadata": {},
     "output_type": "execute_result"
    }
   ],
   "source": [
    "np.random.normal(size=10)"
   ]
  },
  {
   "cell_type": "code",
   "execution_count": 6,
   "id": "366e2a27-d700-44c8-bf50-ac826de6259a",
   "metadata": {},
   "outputs": [
    {
     "data": {
      "text/plain": [
       "array([0.39141906, 0.05291873, 0.25141754, 0.7219887 , 0.30420502,\n",
       "       0.43998737, 0.78522769, 0.06600296, 0.57640781, 0.7197574 ])"
      ]
     },
     "execution_count": 6,
     "metadata": {},
     "output_type": "execute_result"
    }
   ],
   "source": [
    "np.random.rand(random_)"
   ]
  },
  {
   "cell_type": "code",
   "execution_count": null,
   "id": "a0dcf977-b56e-4fd8-a067-d26d12cf5d6f",
   "metadata": {},
   "outputs": [],
   "source": []
  },
  {
   "cell_type": "code",
   "execution_count": null,
   "id": "821087ed-9032-4a4d-a73c-1a261cf76a21",
   "metadata": {},
   "outputs": [],
   "source": []
  },
  {
   "cell_type": "code",
   "execution_count": null,
   "id": "1bc67718-f72b-440d-9eeb-22b27636a870",
   "metadata": {},
   "outputs": [],
   "source": []
  },
  {
   "cell_type": "code",
   "execution_count": null,
   "id": "e35b2162-c29f-493a-b1f5-40d35b3754a1",
   "metadata": {},
   "outputs": [],
   "source": []
  },
  {
   "cell_type": "code",
   "execution_count": null,
   "id": "e06525d5-f1a5-431a-a4b4-33d1e7fcc8c0",
   "metadata": {},
   "outputs": [],
   "source": []
  },
  {
   "cell_type": "code",
   "execution_count": 21,
   "id": "c0db2d70-2baa-4a4d-b7ff-42e8dec9ec62",
   "metadata": {},
   "outputs": [],
   "source": [
    "X, Y = make_regression(n_samples=1000, \n",
    "                                n_features=100,\n",
    "                                n_targets=1,\n",
    "                                noise=0)"
   ]
  },
  {
   "cell_type": "code",
   "execution_count": null,
   "id": "be6d9ccb-a851-4e88-a569-19c7edc1fd03",
   "metadata": {},
   "outputs": [],
   "source": []
  },
  {
   "cell_type": "code",
   "execution_count": null,
   "id": "7b285393-71ef-45b3-847c-26bd72962b44",
   "metadata": {},
   "outputs": [],
   "source": []
  },
  {
   "cell_type": "code",
   "execution_count": null,
   "id": "7fd0da02-0fe5-42e6-8bd1-27d49f59f103",
   "metadata": {},
   "outputs": [],
   "source": []
  },
  {
   "cell_type": "code",
   "execution_count": null,
   "id": "ad6b8fd5-8a24-4134-8490-ffe061f14339",
   "metadata": {},
   "outputs": [],
   "source": []
  },
  {
   "cell_type": "code",
   "execution_count": null,
   "id": "254206f5-b8e8-4e95-9436-6be3efa032c3",
   "metadata": {},
   "outputs": [],
   "source": []
  },
  {
   "cell_type": "code",
   "execution_count": null,
   "id": "e4c78bd9-a171-4b89-b2b1-2b757426c339",
   "metadata": {},
   "outputs": [],
   "source": []
  },
  {
   "cell_type": "code",
   "execution_count": null,
   "id": "340f682b-01fe-49df-ba40-9a9a704c5c0d",
   "metadata": {},
   "outputs": [],
   "source": []
  },
  {
   "cell_type": "code",
   "execution_count": null,
   "id": "17f7fc69-2f5e-452f-b70f-c166e48cd8b0",
   "metadata": {},
   "outputs": [],
   "source": []
  },
  {
   "cell_type": "code",
   "execution_count": 22,
   "id": "7a8ae263-053f-4ffb-a83a-5fd35134ca73",
   "metadata": {},
   "outputs": [
    {
     "data": {
      "text/plain": [
       "((1000, 100), (1000,), numpy.ndarray, numpy.ndarray)"
      ]
     },
     "execution_count": 22,
     "metadata": {},
     "output_type": "execute_result"
    }
   ],
   "source": [
    "X.shape, Y.shape, type(X), type(Y)"
   ]
  }
 ],
 "metadata": {
  "kernelspec": {
   "display_name": "Python 3 (ipykernel)",
   "language": "python",
   "name": "python3"
  },
  "language_info": {
   "codemirror_mode": {
    "name": "ipython",
    "version": 3
   },
   "file_extension": ".py",
   "mimetype": "text/x-python",
   "name": "python",
   "nbconvert_exporter": "python",
   "pygments_lexer": "ipython3",
   "version": "3.8.16"
  }
 },
 "nbformat": 4,
 "nbformat_minor": 5
}
